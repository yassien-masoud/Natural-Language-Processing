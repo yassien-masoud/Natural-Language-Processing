{
 "cells": [
  {
   "cell_type": "markdown",
   "metadata": {},
   "source": [
    "# Setup Personality Insights¶\n"
   ]
  },
  {
   "cell_type": "code",
   "execution_count": 23,
   "metadata": {},
   "outputs": [],
   "source": [
    "# Import Watson\n",
    "from ibm_watson import PersonalityInsightsV3\n",
    "\n",
    "# Import authenticator\n",
    "from ibm_cloud_sdk_core.authenticators import IAMAuthenticator"
   ]
  },
  {
   "cell_type": "code",
   "execution_count": 24,
   "metadata": {},
   "outputs": [],
   "source": [
    "# Creds for Personality Insights\n",
    "apikey = 'put your apikey'\n",
    "url = '                    '"
   ]
  },
  {
   "cell_type": "code",
   "execution_count": 25,
   "metadata": {},
   "outputs": [],
   "source": [
    "# Authenticate to PI service\n",
    "authenticator = IAMAuthenticator(apikey)\n",
    "personality_insights = PersonalityInsightsV3(version='2017-10-13', authenticator=authenticator)\n",
    "personality_insights.set_service_url(url)"
   ]
  },
  {
   "cell_type": "code",
   "execution_count": null,
   "metadata": {},
   "outputs": [],
   "source": [
    "def personality_anal(dicto, short_tweets=None, validate_dic=None):\n",
    "    dic={}\n",
    "    list_of_short_tweets = []\n",
    "    for user_id, string in dicto.items():\n",
    "        try:\n",
    "            profile = personality_insights.profile(string, accept='application/json').get_result()\n",
    "            dic[user_id]= profile\n",
    "        except:\n",
    "            list_of_short_tweets.append(user_id) \n",
    "            \n",
    "    if short_tweets:\n",
    "        return list_of_short_tweets\n",
    "    \n",
    "    if validate_dic:\n",
    "        valid_dic = {}\n",
    "        for user_id, string in dicto.items():\n",
    "            if user_id not in list_of_short_tweets:\n",
    "                valid_dic[user_id] = string\n",
    "        return valid_dic                \n",
    "    \n",
    "    return dic\n",
    "\n",
    "clean_dic = personality_anal(extr_tweets_strings, validate_dic=True)\n",
    "final_dic = personality_anal(clean_dic)\n"
   ]
  },
  {
   "cell_type": "markdown",
   "metadata": {},
   "source": [
    "### Tweets Personality ['Personality'] Function"
   ]
  },
  {
   "cell_type": "code",
   "execution_count": null,
   "metadata": {},
   "outputs": [],
   "source": [
    "def tweets_personality_df(dic):\n",
    "    indexo = []\n",
    "    personality=['Openness','Conscientiousness','Extraversion','Agreeableness','Emotional range']\n",
    "    val = []\n",
    "    for user_id, tweet_obj in dic.items():\n",
    "        indexo.append(user_id)\n",
    "        openness = tweet_obj['personality'][0]['percentile']\n",
    "        Conscientiousness = tweet_obj['personality'][1]['percentile']\n",
    "        Extraversion = tweet_obj['personality'][2]['percentile']\n",
    "        Agreeableness = tweet_obj['personality'][3]['percentile']\n",
    "        Emotional_range = tweet_obj['personality'][4]['percentile']\n",
    "        val.append([openness, Conscientiousness, Extraversion, Agreeableness, Emotional_range])   \n",
    "    df = pd.DataFrame(data = val, columns = personality, index = indexo)\n",
    "    \n",
    "    return df\n",
    "\n",
    "personality=tweets_personality_df(final_dic)\n",
    "\n",
    "# Save to CSV file\n",
    "personality.to_csv('fake_tweets_personality_personality.csv')"
   ]
  },
  {
   "cell_type": "markdown",
   "metadata": {},
   "source": [
    "### Tweets Personality ['Values'] Function"
   ]
  },
  {
   "cell_type": "code",
   "execution_count": null,
   "metadata": {},
   "outputs": [],
   "source": [
    "def tweets_personality_values_df(dic):\n",
    "    indexo = []\n",
    "    personality=['Conservation','Openness','Hedonism','Self-enhancement','Self-transcendence']\n",
    "    val = []\n",
    "    for user_id, tweet_obj in dic.items():\n",
    "        indexo.append(user_id)\n",
    "        Conservation = tweet_obj['values'][0]['percentile']\n",
    "        Openness = tweet_obj['values'][1]['percentile']\n",
    "        Hedonism = tweet_obj['values'][2]['percentile']\n",
    "        Self_enhancement = tweet_obj['values'][3]['percentile']\n",
    "        Self_transcendence = tweet_obj['values'][4]['percentile']\n",
    "        val.append([Conservation, Openness, Hedonism, Self_enhancement, Self_transcendence])   \n",
    "    df = pd.DataFrame(data = val, columns = personality, index = indexo)\n",
    "    \n",
    "    return df\n",
    "\n",
    "values=tweets_personality_values_df(final_dic)\n",
    "\n",
    "# Save to CSV file\n",
    "values.to_csv('fake_tweets_personality_values.csv')"
   ]
  },
  {
   "cell_type": "markdown",
   "metadata": {},
   "source": [
    "### Tweets Personality ['needs'] Function"
   ]
  },
  {
   "cell_type": "code",
   "execution_count": null,
   "metadata": {},
   "outputs": [],
   "source": [
    "def tweets_personality_needs_df(dic):\n",
    "    indexo = []\n",
    "    personality=['Challenge','Closeness','Curiosity','Excitement','Harmony','Ideal','Liberty','Love','Practicality','Self-expression','Stability','Structure']\n",
    "    val = []\n",
    "    for user_id, tweet_obj in dic.items():\n",
    "        indexo.append(user_id)\n",
    "        Challenge = tweet_obj['needs'][0]['percentile']\n",
    "        Closeness = tweet_obj['needs'][1]['percentile']\n",
    "        Curiosity = tweet_obj['needs'][2]['percentile']\n",
    "        Excitement = tweet_obj['needs'][3]['percentile']\n",
    "        Harmony = tweet_obj['needs'][4]['percentile']\n",
    "        Ideal = tweet_obj['needs'][5]['percentile']\n",
    "        Liberty = tweet_obj['needs'][6]['percentile']\n",
    "        Love = tweet_obj['needs'][7]['percentile']\n",
    "        Practicality = tweet_obj['needs'][8]['percentile']\n",
    "        Self_expression = tweet_obj['needs'][9]['percentile']\n",
    "        Stability = tweet_obj['needs'][10]['percentile']\n",
    "        Structure = tweet_obj['needs'][11]['percentile']\n",
    "\n",
    "        \n",
    "        val.append([Challenge, Closeness, Curiosity, Excitement, Harmony, Ideal, Liberty, Love, Practicality, Self_expression, Stability, Structure])   \n",
    "    df = pd.DataFrame(data = val, columns = personality, index = indexo)\n",
    "    \n",
    "    return df\n",
    "needs=tweets_personality_needs_df(final_dic)\n",
    "\n",
    "# Save to CSV file\n",
    "\n",
    "needs.to_csv('fake_tweets_personality_needs.csv')"
   ]
  }
 ],
 "metadata": {
  "kernelspec": {
   "display_name": "Python 3",
   "language": "python",
   "name": "python3"
  },
  "language_info": {
   "codemirror_mode": {
    "name": "ipython",
    "version": 3
   },
   "file_extension": ".py",
   "mimetype": "text/x-python",
   "name": "python",
   "nbconvert_exporter": "python",
   "pygments_lexer": "ipython3",
   "version": "3.7.6"
  }
 },
 "nbformat": 4,
 "nbformat_minor": 4
}
